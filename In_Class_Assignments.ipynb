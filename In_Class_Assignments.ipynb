{
  "nbformat": 4,
  "nbformat_minor": 0,
  "metadata": {
    "colab": {
      "provenance": [],
      "authorship_tag": "ABX9TyMZnzOWffVqHEzM0AGgoG+6",
      "include_colab_link": true
    },
    "kernelspec": {
      "name": "python3",
      "display_name": "Python 3"
    },
    "language_info": {
      "name": "python"
    }
  },
  "cells": [
    {
      "cell_type": "markdown",
      "metadata": {
        "id": "view-in-github",
        "colab_type": "text"
      },
      "source": [
        "<a href=\"https://colab.research.google.com/github/ljs243/BTE.320.Fall.24/blob/main/In_Class_Assignments.ipynb\" target=\"_parent\"><img src=\"https://colab.research.google.com/assets/colab-badge.svg\" alt=\"Open In Colab\"/></a>"
      ]
    },
    {
      "cell_type": "code",
      "source": [
        "#assignment 1\n",
        "\n",
        "pi = 3.14\n",
        "r = 3\n",
        "h = 10\n",
        "area = 2 * pi * r ** 2 + 2 *pi * r * h\n",
        "print(area)"
      ],
      "metadata": {
        "id": "UygfFRzn7i85",
        "colab": {
          "base_uri": "https://localhost:8080/"
        },
        "outputId": "ed7fc141-4b01-4d9d-e02b-d7dfe02ea744"
      },
      "execution_count": null,
      "outputs": [
        {
          "output_type": "stream",
          "name": "stdout",
          "text": [
            "244.92000000000002\n"
          ]
        }
      ]
    },
    {
      "cell_type": "code",
      "source": [
        "#assignment 2\n",
        "\n",
        "p1 = input('Player 1 select: ')\n",
        "p2 = input('Player 2 select: ')\n",
        "\n",
        "if p1 == 'rock' and p2 == 'scissors':\n",
        "    print('Player 1 wins')\n",
        "elif p1 == 'scissors' and p2 == 'rock':\n",
        "    print('Player 2 wins')\n",
        "elif p1 == 'scissors' and p2 == 'paper':\n",
        "    print('Player 1 wins')\n",
        "elif p1 == 'paper' and p2 == 'scissors':\n",
        "    print('Player 2 wins')\n",
        "elif p1 == 'paper' and p2 == 'rock':\n",
        "    print('Player 1 wins')\n",
        "elif p1 == 'rock' and p2 == 'paper':\n",
        "    print('Player 2 wins')\n",
        "else:\n",
        "    p1 == p2\n",
        "    print('Draw')"
      ],
      "metadata": {
        "colab": {
          "base_uri": "https://localhost:8080/"
        },
        "id": "DMJvgMYHtU4I",
        "outputId": "b78feab0-1aed-4ed7-d44a-8d45be2e883a"
      },
      "execution_count": null,
      "outputs": [
        {
          "output_type": "stream",
          "name": "stdout",
          "text": [
            "Player 1 select: rock\n",
            "Player 2 select: paper\n",
            "Player 2 wins\n"
          ]
        }
      ]
    },
    {
      "cell_type": "code",
      "source": [
        "#assignment 2 simplified\n",
        "\n",
        "answer = input('Do you want to play again? ')\n",
        "\n",
        "\n",
        "while answer == 'yes':\n",
        "\n",
        "  p1 = input('Player 1 : rock, paper, scissors: ')\n",
        "  p2 = input('Player 2 : rock, paper, scissors: ')\n",
        "\n",
        "\n",
        "\n",
        "  if p1 == p2:\n",
        "    print(\"Draw\")\n",
        "  elif (\n",
        "      (p1 == 'rock' and p2 == 'scissors') or\n",
        "        (p1 == 'scissors' and p2 == 'paper') or\n",
        "          (p1 == 'paper' and p2 == 'rock')\n",
        "      ):\n",
        "        print('Player 1 wins!')\n",
        "  else:\n",
        "    print('Player 2 wins!')\n",
        "\n",
        "  answer = input('Do you want to play again? ')\n",
        "\n"
      ],
      "metadata": {
        "colab": {
          "base_uri": "https://localhost:8080/"
        },
        "id": "MKpbGASLyPO-",
        "outputId": "a84155fe-e49f-44ec-ce18-c794b6049088",
        "collapsed": true
      },
      "execution_count": null,
      "outputs": [
        {
          "name": "stdout",
          "output_type": "stream",
          "text": [
            "Do you want to play again? yes\n",
            "Player 1 : rock, paper, scissors: rock\n",
            "Player 2 : rock, paper, scissors: paper\n",
            "Player 2 wins!\n",
            "Do you want to play again? no\n"
          ]
        }
      ]
    },
    {
      "cell_type": "code",
      "source": [
        "#assignment 3\n",
        "\n",
        "n1 = float(input('Enter first number: '))\n",
        "symbol = input('Enter a symbol: ')\n",
        "n2 = float(input('Enter second number: '))\n",
        "\n",
        "if symbol == '+':\n",
        "    print(n1 + n2)\n",
        "elif symbol == '-':\n",
        "    print(n1 - n2)\n",
        "elif symbol == '*':\n",
        "    print(n1 * n2)\n",
        "elif symbol == '/':\n",
        "    print(n1 / n2)\n",
        "elif symbol == '**':\n",
        "    print(n1 ** n2)"
      ],
      "metadata": {
        "colab": {
          "base_uri": "https://localhost:8080/"
        },
        "id": "Pk3Zc9qz5E_M",
        "outputId": "a7915ffe-d1e7-470b-d2fb-cc763551d4e9"
      },
      "execution_count": null,
      "outputs": [
        {
          "output_type": "stream",
          "name": "stdout",
          "text": [
            "Enter first number: 2\n",
            "Enter a symbol: *\n",
            "Enter second number: 3\n",
            "6\n"
          ]
        }
      ]
    },
    {
      "cell_type": "code",
      "source": [
        "n = []\n",
        "\n",
        "user = int(input('Enter a number: '))\n",
        "\n",
        "while user != 0:\n",
        "    n.append(user)\n",
        "    user = int(input('Enter a number: '))\n",
        "\n",
        "\n",
        "print(n)\n",
        "\n",
        "\n",
        "\n"
      ],
      "metadata": {
        "colab": {
          "base_uri": "https://localhost:8080/"
        },
        "id": "u8w-xYkmyjCb",
        "outputId": "425010c1-4c71-4664-eeca-de49f0f345d7"
      },
      "execution_count": null,
      "outputs": [
        {
          "output_type": "stream",
          "name": "stdout",
          "text": [
            "Enter a number: 5\n",
            "Enter a number: 5\n",
            "Enter a number: 5\n",
            "Enter a number: 10\n",
            "Enter a number: 0\n",
            "[5, 5, 5, 10]\n"
          ]
        }
      ]
    },
    {
      "cell_type": "code",
      "source": [
        "months = {}\n",
        "\n",
        "names = [\"Jan\", \"Feb\", \"Mar\", \"Apr\", \"May\", \"Jun\", \"Jul\", \"Aug\", \"Sep\", \"Oct\", \"Nov\", \"Dec\"]\n",
        "numbers = [1,2,3,4,5,6,7,8,9,10,11,12]\n",
        "\n",
        "for i in range(len(names)):\n",
        "    months[numbers[i]] = names[i]\n",
        "\n",
        "print(months)\n"
      ],
      "metadata": {
        "colab": {
          "base_uri": "https://localhost:8080/"
        },
        "id": "ZxefWaNC47EP",
        "outputId": "f96445d3-3922-49ec-d4ae-711fea0f1ecb"
      },
      "execution_count": 8,
      "outputs": [
        {
          "output_type": "stream",
          "name": "stdout",
          "text": [
            "{1: 'Jan', 2: 'Feb', 3: 'Mar', 4: 'Apr', 5: 'May', 6: 'Jun', 7: 'Jul', 8: 'Aug', 9: 'Sep', 10: 'Oct', 11: 'Nov', 12: 'Dec'}\n"
          ]
        }
      ]
    }
  ]
}