{
  "nbformat": 4,
  "nbformat_minor": 0,
  "metadata": {
    "colab": {
      "provenance": [],
      "authorship_tag": "ABX9TyOXyEpadcT2cQxlkMyGF8eB",
      "include_colab_link": true
    },
    "kernelspec": {
      "name": "python3",
      "display_name": "Python 3"
    },
    "language_info": {
      "name": "python"
    }
  },
  "cells": [
    {
      "cell_type": "markdown",
      "metadata": {
        "id": "view-in-github",
        "colab_type": "text"
      },
      "source": [
        "<a href=\"https://colab.research.google.com/github/ljs243/BTE.320.Fall.24/blob/main/In_Class_Assignments.ipynb\" target=\"_parent\"><img src=\"https://colab.research.google.com/assets/colab-badge.svg\" alt=\"Open In Colab\"/></a>"
      ]
    },
    {
      "cell_type": "code",
      "source": [
        "#assignment 1\n",
        "\n",
        "pi = 3.14\n",
        "r = 3\n",
        "h = 10\n",
        "area = 2 * pi * r ** 2 + 2 *pi * r * h\n",
        "print(area)"
      ],
      "metadata": {
        "id": "UygfFRzn7i85",
        "colab": {
          "base_uri": "https://localhost:8080/"
        },
        "outputId": "ed7fc141-4b01-4d9d-e02b-d7dfe02ea744"
      },
      "execution_count": null,
      "outputs": [
        {
          "output_type": "stream",
          "name": "stdout",
          "text": [
            "244.92000000000002\n"
          ]
        }
      ]
    },
    {
      "cell_type": "code",
      "source": [
        "#assignment 2\n",
        "\n",
        "p1 = input('Player 1 select: ')\n",
        "p2 = input('Player 2 select: ')\n",
        "\n",
        "if p1 == 'rock' and p2 == 'scissors':\n",
        "    print('Player 1 wins')\n",
        "elif p1 == 'scissors' and p2 == 'rock':\n",
        "    print('Player 2 wins')\n",
        "elif p1 == 'scissors' and p2 == 'paper':\n",
        "    print('Player 1 wins')\n",
        "elif p1 == 'paper' and p2 == 'scissors':\n",
        "    print('Player 2 wins')\n",
        "elif p1 == 'paper' and p2 == 'rock':\n",
        "    print('Player 1 wins')\n",
        "elif p1 == 'rock' and p2 == 'paper':\n",
        "    print('Player 2 wins')\n",
        "else:\n",
        "    p1 == p2\n",
        "    print('Draw')"
      ],
      "metadata": {
        "colab": {
          "base_uri": "https://localhost:8080/"
        },
        "id": "DMJvgMYHtU4I",
        "outputId": "b78feab0-1aed-4ed7-d44a-8d45be2e883a"
      },
      "execution_count": null,
      "outputs": [
        {
          "output_type": "stream",
          "name": "stdout",
          "text": [
            "Player 1 select: rock\n",
            "Player 2 select: paper\n",
            "Player 2 wins\n"
          ]
        }
      ]
    },
    {
      "cell_type": "code",
      "source": [
        "#assignment 2 simplified\n",
        "\n",
        "answer = input('Do you want to play again? ')\n",
        "\n",
        "\n",
        "while answer == 'yes':\n",
        "\n",
        "  p1 = input('Player 1 : rock, paper, scissors: ')\n",
        "  p2 = input('Player 2 : rock, paper, scissors: ')\n",
        "\n",
        "\n",
        "\n",
        "  if p1 == p2:\n",
        "    print(\"Draw\")\n",
        "  elif (\n",
        "      (p1 == 'rock' and p2 == 'scissors') or\n",
        "        (p1 == 'scissors' and p2 == 'paper') or\n",
        "          (p1 == 'paper' and p2 == 'rock')\n",
        "      ):\n",
        "        print('Player 1 wins!')\n",
        "  else:\n",
        "    print('Player 2 wins!')\n",
        "\n",
        "  answer = input('Do you want to play again? ')\n",
        "\n"
      ],
      "metadata": {
        "colab": {
          "base_uri": "https://localhost:8080/"
        },
        "id": "MKpbGASLyPO-",
        "outputId": "a84155fe-e49f-44ec-ce18-c794b6049088",
        "collapsed": true
      },
      "execution_count": null,
      "outputs": [
        {
          "name": "stdout",
          "output_type": "stream",
          "text": [
            "Do you want to play again? yes\n",
            "Player 1 : rock, paper, scissors: rock\n",
            "Player 2 : rock, paper, scissors: paper\n",
            "Player 2 wins!\n",
            "Do you want to play again? no\n"
          ]
        }
      ]
    },
    {
      "cell_type": "code",
      "source": [
        "#assignment 3\n",
        "\n",
        "n1 = float(input('Enter first number: '))\n",
        "symbol = input('Enter a symbol: ')\n",
        "n2 = float(input('Enter second number: '))\n",
        "\n",
        "if symbol == '+':\n",
        "    print(n1 + n2)\n",
        "elif symbol == '-':\n",
        "    print(n1 - n2)\n",
        "elif symbol == '*':\n",
        "    print(n1 * n2)\n",
        "elif symbol == '/':\n",
        "    print(n1 / n2)\n",
        "elif symbol == '**':\n",
        "    print(n1 ** n2)"
      ],
      "metadata": {
        "colab": {
          "base_uri": "https://localhost:8080/"
        },
        "id": "Pk3Zc9qz5E_M",
        "outputId": "a7915ffe-d1e7-470b-d2fb-cc763551d4e9"
      },
      "execution_count": null,
      "outputs": [
        {
          "output_type": "stream",
          "name": "stdout",
          "text": [
            "Enter first number: 2\n",
            "Enter a symbol: *\n",
            "Enter second number: 3\n",
            "6\n"
          ]
        }
      ]
    },
    {
      "cell_type": "code",
      "source": [],
      "metadata": {
        "colab": {
          "base_uri": "https://localhost:8080/",
          "height": 106
        },
        "id": "u8w-xYkmyjCb",
        "outputId": "dcd3323b-66d9-4176-f343-6f2c0d88b536"
      },
      "execution_count": null,
      "outputs": [
        {
          "output_type": "error",
          "ename": "IndentationError",
          "evalue": "expected an indented block after 'while' statement on line 6 (<ipython-input-6-afcae08e4b2f>, line 7)",
          "traceback": [
            "\u001b[0;36m  File \u001b[0;32m\"<ipython-input-6-afcae08e4b2f>\"\u001b[0;36m, line \u001b[0;32m7\u001b[0m\n\u001b[0;31m    (\u001b[0m\n\u001b[0m    ^\u001b[0m\n\u001b[0;31mIndentationError\u001b[0m\u001b[0;31m:\u001b[0m expected an indented block after 'while' statement on line 6\n"
          ]
        }
      ]
    }
  ]
}